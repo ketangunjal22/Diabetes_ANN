{
 "cells": [
  {
   "cell_type": "markdown",
   "metadata": {},
   "source": [
    "# SOME POITNS TO REMEMBER:-\n",
    "## here our aim is not to get high accuracy or not to get optimal solution\n",
    "## our aim is to build simple ANN deep learning algo with simple dataset to predict Binary classification\n",
    "## Our motive of this project is to make simple ANN model so beginners can also understand very easily"
   ]
  },
  {
   "cell_type": "code",
   "execution_count": 72,
   "metadata": {},
   "outputs": [],
   "source": [
    "# Data import"
   ]
  },
  {
   "cell_type": "code",
   "execution_count": 73,
   "metadata": {},
   "outputs": [],
   "source": [
    "import pandas as pd"
   ]
  },
  {
   "cell_type": "code",
   "execution_count": 74,
   "metadata": {},
   "outputs": [
    {
     "data": {
      "text/html": [
       "<div>\n",
       "<style scoped>\n",
       "    .dataframe tbody tr th:only-of-type {\n",
       "        vertical-align: middle;\n",
       "    }\n",
       "\n",
       "    .dataframe tbody tr th {\n",
       "        vertical-align: top;\n",
       "    }\n",
       "\n",
       "    .dataframe thead th {\n",
       "        text-align: right;\n",
       "    }\n",
       "</style>\n",
       "<table border=\"1\" class=\"dataframe\">\n",
       "  <thead>\n",
       "    <tr style=\"text-align: right;\">\n",
       "      <th></th>\n",
       "      <th>Glucose</th>\n",
       "      <th>BloodPressure</th>\n",
       "      <th>SkinThickness</th>\n",
       "      <th>Insulin</th>\n",
       "      <th>BMI</th>\n",
       "      <th>DiabetesPedigreeFunction</th>\n",
       "      <th>Age</th>\n",
       "      <th>Outcome</th>\n",
       "    </tr>\n",
       "  </thead>\n",
       "  <tbody>\n",
       "    <tr>\n",
       "      <th>0</th>\n",
       "      <td>148</td>\n",
       "      <td>50</td>\n",
       "      <td>35</td>\n",
       "      <td>0</td>\n",
       "      <td>33.6</td>\n",
       "      <td>0.627</td>\n",
       "      <td>50</td>\n",
       "      <td>1</td>\n",
       "    </tr>\n",
       "    <tr>\n",
       "      <th>1</th>\n",
       "      <td>85</td>\n",
       "      <td>66</td>\n",
       "      <td>29</td>\n",
       "      <td>0</td>\n",
       "      <td>26.6</td>\n",
       "      <td>0.351</td>\n",
       "      <td>31</td>\n",
       "      <td>0</td>\n",
       "    </tr>\n",
       "    <tr>\n",
       "      <th>2</th>\n",
       "      <td>183</td>\n",
       "      <td>64</td>\n",
       "      <td>0</td>\n",
       "      <td>0</td>\n",
       "      <td>23.3</td>\n",
       "      <td>0.672</td>\n",
       "      <td>52</td>\n",
       "      <td>1</td>\n",
       "    </tr>\n",
       "    <tr>\n",
       "      <th>3</th>\n",
       "      <td>150</td>\n",
       "      <td>66</td>\n",
       "      <td>23</td>\n",
       "      <td>94</td>\n",
       "      <td>28.1</td>\n",
       "      <td>0.167</td>\n",
       "      <td>21</td>\n",
       "      <td>0</td>\n",
       "    </tr>\n",
       "    <tr>\n",
       "      <th>4</th>\n",
       "      <td>150</td>\n",
       "      <td>40</td>\n",
       "      <td>35</td>\n",
       "      <td>168</td>\n",
       "      <td>43.1</td>\n",
       "      <td>2.288</td>\n",
       "      <td>33</td>\n",
       "      <td>1</td>\n",
       "    </tr>\n",
       "  </tbody>\n",
       "</table>\n",
       "</div>"
      ],
      "text/plain": [
       "   Glucose  BloodPressure  SkinThickness  Insulin   BMI  \\\n",
       "0      148             50             35        0  33.6   \n",
       "1       85             66             29        0  26.6   \n",
       "2      183             64              0        0  23.3   \n",
       "3      150             66             23       94  28.1   \n",
       "4      150             40             35      168  43.1   \n",
       "\n",
       "   DiabetesPedigreeFunction  Age  Outcome  \n",
       "0                     0.627   50        1  \n",
       "1                     0.351   31        0  \n",
       "2                     0.672   52        1  \n",
       "3                     0.167   21        0  \n",
       "4                     2.288   33        1  "
      ]
     },
     "execution_count": 74,
     "metadata": {},
     "output_type": "execute_result"
    }
   ],
   "source": [
    "df = pd.read_csv(r\"diabetes.csv\")\n",
    "df.head()"
   ]
  },
  {
   "cell_type": "code",
   "execution_count": 75,
   "metadata": {},
   "outputs": [],
   "source": [
    "# EDA"
   ]
  },
  {
   "cell_type": "code",
   "execution_count": 76,
   "metadata": {},
   "outputs": [
    {
     "data": {
      "text/plain": [
       "(768, 8)"
      ]
     },
     "execution_count": 76,
     "metadata": {},
     "output_type": "execute_result"
    }
   ],
   "source": [
    "df.shape"
   ]
  },
  {
   "cell_type": "code",
   "execution_count": 77,
   "metadata": {},
   "outputs": [
    {
     "name": "stdout",
     "output_type": "stream",
     "text": [
      "<class 'pandas.core.frame.DataFrame'>\n",
      "RangeIndex: 768 entries, 0 to 767\n",
      "Data columns (total 8 columns):\n",
      " #   Column                    Non-Null Count  Dtype  \n",
      "---  ------                    --------------  -----  \n",
      " 0   Glucose                   768 non-null    int64  \n",
      " 1   BloodPressure             768 non-null    int64  \n",
      " 2   SkinThickness             768 non-null    int64  \n",
      " 3   Insulin                   768 non-null    int64  \n",
      " 4   BMI                       768 non-null    float64\n",
      " 5   DiabetesPedigreeFunction  768 non-null    float64\n",
      " 6   Age                       768 non-null    int64  \n",
      " 7   Outcome                   768 non-null    int64  \n",
      "dtypes: float64(2), int64(6)\n",
      "memory usage: 48.1 KB\n"
     ]
    }
   ],
   "source": [
    "df.info()"
   ]
  },
  {
   "cell_type": "code",
   "execution_count": 78,
   "metadata": {},
   "outputs": [
    {
     "data": {
      "text/html": [
       "<div>\n",
       "<style scoped>\n",
       "    .dataframe tbody tr th:only-of-type {\n",
       "        vertical-align: middle;\n",
       "    }\n",
       "\n",
       "    .dataframe tbody tr th {\n",
       "        vertical-align: top;\n",
       "    }\n",
       "\n",
       "    .dataframe thead th {\n",
       "        text-align: right;\n",
       "    }\n",
       "</style>\n",
       "<table border=\"1\" class=\"dataframe\">\n",
       "  <thead>\n",
       "    <tr style=\"text-align: right;\">\n",
       "      <th></th>\n",
       "      <th>Glucose</th>\n",
       "      <th>BloodPressure</th>\n",
       "      <th>SkinThickness</th>\n",
       "      <th>Insulin</th>\n",
       "      <th>BMI</th>\n",
       "      <th>DiabetesPedigreeFunction</th>\n",
       "      <th>Age</th>\n",
       "      <th>Outcome</th>\n",
       "    </tr>\n",
       "  </thead>\n",
       "  <tbody>\n",
       "    <tr>\n",
       "      <th>count</th>\n",
       "      <td>768.000000</td>\n",
       "      <td>768.000000</td>\n",
       "      <td>768.000000</td>\n",
       "      <td>768.000000</td>\n",
       "      <td>768.000000</td>\n",
       "      <td>768.000000</td>\n",
       "      <td>768.000000</td>\n",
       "      <td>768.000000</td>\n",
       "    </tr>\n",
       "    <tr>\n",
       "      <th>mean</th>\n",
       "      <td>121.117188</td>\n",
       "      <td>69.076823</td>\n",
       "      <td>20.536458</td>\n",
       "      <td>79.799479</td>\n",
       "      <td>31.992578</td>\n",
       "      <td>0.471876</td>\n",
       "      <td>33.243490</td>\n",
       "      <td>0.348958</td>\n",
       "    </tr>\n",
       "    <tr>\n",
       "      <th>std</th>\n",
       "      <td>31.805091</td>\n",
       "      <td>19.367794</td>\n",
       "      <td>15.952218</td>\n",
       "      <td>115.244002</td>\n",
       "      <td>7.884160</td>\n",
       "      <td>0.331329</td>\n",
       "      <td>11.758182</td>\n",
       "      <td>0.476951</td>\n",
       "    </tr>\n",
       "    <tr>\n",
       "      <th>min</th>\n",
       "      <td>0.000000</td>\n",
       "      <td>0.000000</td>\n",
       "      <td>0.000000</td>\n",
       "      <td>0.000000</td>\n",
       "      <td>0.000000</td>\n",
       "      <td>0.078000</td>\n",
       "      <td>21.000000</td>\n",
       "      <td>0.000000</td>\n",
       "    </tr>\n",
       "    <tr>\n",
       "      <th>25%</th>\n",
       "      <td>99.000000</td>\n",
       "      <td>62.000000</td>\n",
       "      <td>0.000000</td>\n",
       "      <td>0.000000</td>\n",
       "      <td>27.300000</td>\n",
       "      <td>0.243750</td>\n",
       "      <td>24.000000</td>\n",
       "      <td>0.000000</td>\n",
       "    </tr>\n",
       "    <tr>\n",
       "      <th>50%</th>\n",
       "      <td>117.000000</td>\n",
       "      <td>72.000000</td>\n",
       "      <td>23.000000</td>\n",
       "      <td>30.500000</td>\n",
       "      <td>32.000000</td>\n",
       "      <td>0.372500</td>\n",
       "      <td>29.000000</td>\n",
       "      <td>0.000000</td>\n",
       "    </tr>\n",
       "    <tr>\n",
       "      <th>75%</th>\n",
       "      <td>142.000000</td>\n",
       "      <td>80.000000</td>\n",
       "      <td>32.000000</td>\n",
       "      <td>127.250000</td>\n",
       "      <td>36.600000</td>\n",
       "      <td>0.626250</td>\n",
       "      <td>41.000000</td>\n",
       "      <td>1.000000</td>\n",
       "    </tr>\n",
       "    <tr>\n",
       "      <th>max</th>\n",
       "      <td>199.000000</td>\n",
       "      <td>122.000000</td>\n",
       "      <td>99.000000</td>\n",
       "      <td>846.000000</td>\n",
       "      <td>67.100000</td>\n",
       "      <td>2.420000</td>\n",
       "      <td>81.000000</td>\n",
       "      <td>1.000000</td>\n",
       "    </tr>\n",
       "  </tbody>\n",
       "</table>\n",
       "</div>"
      ],
      "text/plain": [
       "          Glucose  BloodPressure  SkinThickness     Insulin         BMI  \\\n",
       "count  768.000000     768.000000     768.000000  768.000000  768.000000   \n",
       "mean   121.117188      69.076823      20.536458   79.799479   31.992578   \n",
       "std     31.805091      19.367794      15.952218  115.244002    7.884160   \n",
       "min      0.000000       0.000000       0.000000    0.000000    0.000000   \n",
       "25%     99.000000      62.000000       0.000000    0.000000   27.300000   \n",
       "50%    117.000000      72.000000      23.000000   30.500000   32.000000   \n",
       "75%    142.000000      80.000000      32.000000  127.250000   36.600000   \n",
       "max    199.000000     122.000000      99.000000  846.000000   67.100000   \n",
       "\n",
       "       DiabetesPedigreeFunction         Age     Outcome  \n",
       "count                768.000000  768.000000  768.000000  \n",
       "mean                   0.471876   33.243490    0.348958  \n",
       "std                    0.331329   11.758182    0.476951  \n",
       "min                    0.078000   21.000000    0.000000  \n",
       "25%                    0.243750   24.000000    0.000000  \n",
       "50%                    0.372500   29.000000    0.000000  \n",
       "75%                    0.626250   41.000000    1.000000  \n",
       "max                    2.420000   81.000000    1.000000  "
      ]
     },
     "execution_count": 78,
     "metadata": {},
     "output_type": "execute_result"
    }
   ],
   "source": [
    "df.describe()"
   ]
  },
  {
   "cell_type": "code",
   "execution_count": 79,
   "metadata": {},
   "outputs": [
    {
     "data": {
      "text/plain": [
       "Glucose                     0\n",
       "BloodPressure               0\n",
       "SkinThickness               0\n",
       "Insulin                     0\n",
       "BMI                         0\n",
       "DiabetesPedigreeFunction    0\n",
       "Age                         0\n",
       "Outcome                     0\n",
       "dtype: int64"
      ]
     },
     "execution_count": 79,
     "metadata": {},
     "output_type": "execute_result"
    }
   ],
   "source": [
    "df.isna().sum()"
   ]
  },
  {
   "cell_type": "code",
   "execution_count": 80,
   "metadata": {},
   "outputs": [],
   "source": [
    "import seaborn as sns\n",
    "import matplotlib.pyplot as plt"
   ]
  },
  {
   "cell_type": "code",
   "execution_count": 81,
   "metadata": {},
   "outputs": [
    {
     "data": {
      "text/plain": [
       "<Axes: >"
      ]
     },
     "execution_count": 81,
     "metadata": {},
     "output_type": "execute_result"
    },
    {
     "data": {
      "image/png": "[encoded data removed]",
      "text/plain": [
       "<Figure size 640x480 with 1 Axes>"
      ]
     },
     "metadata": {},
     "output_type": "display_data"
    }
   ],
   "source": [
    "sns.boxplot(data=df)"
   ]
  },
  {
   "cell_type": "code",
   "execution_count": 82,
   "metadata": {},
   "outputs": [],
   "source": [
    "# here we detected some outliers in Insulin feature, but our aim is not to handle that but is to create neural network."
   ]
  },
  {
   "cell_type": "code",
   "execution_count": 83,
   "metadata": {},
   "outputs": [
    {
     "data": {
      "text/plain": [
       "0    500\n",
       "1    268\n",
       "Name: Outcome, dtype: int64"
      ]
     },
     "execution_count": 83,
     "metadata": {},
     "output_type": "execute_result"
    }
   ],
   "source": [
    "df['Outcome'].value_counts()   #Imbalanced data"
   ]
  },
  {
   "cell_type": "code",
   "execution_count": 84,
   "metadata": {},
   "outputs": [],
   "source": [
    "# splitting data"
   ]
  },
  {
   "cell_type": "code",
   "execution_count": 85,
   "metadata": {},
   "outputs": [],
   "source": [
    "from sklearn.model_selection import train_test_split\n",
    "\n",
    "x = df.drop(columns = 'Outcome', axis = 1)\n",
    "y = df['Outcome']\n",
    "\n",
    "x_train, x_test, y_train, y_test = train_test_split(x,y, random_state=22,stratify=y, test_size=0.25)"
   ]
  },
  {
   "cell_type": "code",
   "execution_count": 86,
   "metadata": {},
   "outputs": [],
   "source": [
    "# before passing data to the neural network we have to scale down the values. we will with standardscalar"
   ]
  },
  {
   "cell_type": "code",
   "execution_count": 87,
   "metadata": {},
   "outputs": [],
   "source": [
    "from sklearn.preprocessing import StandardScaler\n",
    "scalar = StandardScaler()\n",
    "x_train_scaled = scalar.fit_transform(x_train)\n",
    "x_test_scaled = scalar.transform(x_test)"
   ]
  },
  {
   "cell_type": "code",
   "execution_count": 88,
   "metadata": {},
   "outputs": [
    {
     "data": {
      "text/plain": [
       "(576, 7)"
      ]
     },
     "execution_count": 88,
     "metadata": {},
     "output_type": "execute_result"
    }
   ],
   "source": [
    "x_train_scaled.shape"
   ]
  },
  {
   "cell_type": "code",
   "execution_count": 89,
   "metadata": {},
   "outputs": [
    {
     "data": {
      "text/plain": [
       "(192, 7)"
      ]
     },
     "execution_count": 89,
     "metadata": {},
     "output_type": "execute_result"
    }
   ],
   "source": [
    "x_test_scaled.shape"
   ]
  },
  {
   "cell_type": "code",
   "execution_count": 90,
   "metadata": {},
   "outputs": [],
   "source": [
    "# build Neural Network"
   ]
  },
  {
   "cell_type": "code",
   "execution_count": 91,
   "metadata": {},
   "outputs": [],
   "source": [
    "import tensorflow\n",
    "from tensorflow import keras\n",
    "from tensorflow.keras.layers import Dense\n",
    "from tensorflow.keras.models import Sequential"
   ]
  },
  {
   "cell_type": "code",
   "execution_count": 92,
   "metadata": {},
   "outputs": [
    {
     "name": "stdout",
     "output_type": "stream",
     "text": [
      "Model: \"sequential_5\"\n",
      "_________________________________________________________________\n",
      " Layer (type)                Output Shape              Param #   \n",
      "=================================================================\n",
      " dense_12 (Dense)            (None, 7)                 56        \n",
      "                                                                 \n",
      " dense_13 (Dense)            (None, 7)                 56        \n",
      "                                                                 \n",
      " dense_14 (Dense)            (None, 1)                 8         \n",
      "                                                                 \n",
      "=================================================================\n",
      "Total params: 120\n",
      "Trainable params: 120\n",
      "Non-trainable params: 0\n",
      "_________________________________________________________________\n"
     ]
    }
   ],
   "source": [
    "model =Sequential()\n",
    "model.add(Dense(7,activation= 'relu', input_dim=7))        #input layer\n",
    "model.add(Dense(7, activation = 'relu'))                   #hidden layer\n",
    "model.add(Dense(1, activation = 'sigmoid'))                #output layer\n",
    "model.compile(optimizer = 'adam', loss = 'binary_crossentropy', metrics = ['accuracy'])\n",
    "model.summary()"
   ]
  },
  {
   "cell_type": "code",
   "execution_count": 93,
   "metadata": {},
   "outputs": [
    {
     "name": "stdout",
     "output_type": "stream",
     "text": [
      "Epoch 1/110\n"
     ]
    },
    {
     "name": "stdout",
     "output_type": "stream",
     "text": [
      "17/17 [==============================] - 1s 10ms/step - loss: 0.6773 - accuracy: 0.6506 - val_loss: 0.6286 - val_accuracy: 0.6552\n",
      "Epoch 2/110\n",
      "17/17 [==============================] - 0s 3ms/step - loss: 0.6592 - accuracy: 0.6506 - val_loss: 0.6174 - val_accuracy: 0.6552\n",
      "Epoch 3/110\n",
      "17/17 [==============================] - 0s 4ms/step - loss: 0.6432 - accuracy: 0.6525 - val_loss: 0.6080 - val_accuracy: 0.6552\n",
      "Epoch 4/110\n",
      "17/17 [==============================] - 0s 3ms/step - loss: 0.6297 - accuracy: 0.6525 - val_loss: 0.5986 - val_accuracy: 0.6552\n",
      "Epoch 5/110\n",
      "17/17 [==============================] - 0s 3ms/step - loss: 0.6167 - accuracy: 0.6583 - val_loss: 0.5893 - val_accuracy: 0.6897\n",
      "Epoch 6/110\n",
      "17/17 [==============================] - 0s 3ms/step - loss: 0.6051 - accuracy: 0.6544 - val_loss: 0.5798 - val_accuracy: 0.6897\n",
      "Epoch 7/110\n",
      "17/17 [==============================] - 0s 4ms/step - loss: 0.5938 - accuracy: 0.6564 - val_loss: 0.5709 - val_accuracy: 0.6897\n",
      "Epoch 8/110\n",
      "17/17 [==============================] - 0s 3ms/step - loss: 0.5845 - accuracy: 0.6660 - val_loss: 0.5635 - val_accuracy: 0.6897\n",
      "Epoch 9/110\n",
      "17/17 [==============================] - 0s 3ms/step - loss: 0.5746 - accuracy: 0.6757 - val_loss: 0.5563 - val_accuracy: 0.6897\n",
      "Epoch 10/110\n",
      "17/17 [==============================] - 0s 3ms/step - loss: 0.5663 - accuracy: 0.6853 - val_loss: 0.5490 - val_accuracy: 0.7241\n",
      "Epoch 11/110\n",
      "17/17 [==============================] - 0s 3ms/step - loss: 0.5581 - accuracy: 0.6988 - val_loss: 0.5429 - val_accuracy: 0.7241\n",
      "Epoch 12/110\n",
      "17/17 [==============================] - 0s 3ms/step - loss: 0.5510 - accuracy: 0.6988 - val_loss: 0.5376 - val_accuracy: 0.7241\n",
      "Epoch 13/110\n",
      "17/17 [==============================] - 0s 3ms/step - loss: 0.5451 - accuracy: 0.7027 - val_loss: 0.5324 - val_accuracy: 0.7241\n",
      "Epoch 14/110\n",
      "17/17 [==============================] - 0s 3ms/step - loss: 0.5396 - accuracy: 0.7104 - val_loss: 0.5283 - val_accuracy: 0.7241\n",
      "Epoch 15/110\n",
      "17/17 [==============================] - 0s 3ms/step - loss: 0.5351 - accuracy: 0.7181 - val_loss: 0.5249 - val_accuracy: 0.7414\n",
      "Epoch 16/110\n",
      "17/17 [==============================] - 0s 3ms/step - loss: 0.5300 - accuracy: 0.7181 - val_loss: 0.5224 - val_accuracy: 0.7586\n",
      "Epoch 17/110\n",
      "17/17 [==============================] - 0s 3ms/step - loss: 0.5259 - accuracy: 0.7239 - val_loss: 0.5204 - val_accuracy: 0.7931\n",
      "Epoch 18/110\n",
      "17/17 [==============================] - 0s 3ms/step - loss: 0.5222 - accuracy: 0.7259 - val_loss: 0.5185 - val_accuracy: 0.7759\n",
      "Epoch 19/110\n",
      "17/17 [==============================] - 0s 3ms/step - loss: 0.5187 - accuracy: 0.7336 - val_loss: 0.5168 - val_accuracy: 0.7586\n",
      "Epoch 20/110\n",
      "17/17 [==============================] - 0s 3ms/step - loss: 0.5155 - accuracy: 0.7452 - val_loss: 0.5143 - val_accuracy: 0.7586\n",
      "Epoch 21/110\n",
      "17/17 [==============================] - 0s 3ms/step - loss: 0.5120 - accuracy: 0.7587 - val_loss: 0.5123 - val_accuracy: 0.7759\n",
      "Epoch 22/110\n",
      "17/17 [==============================] - 0s 3ms/step - loss: 0.5090 - accuracy: 0.7645 - val_loss: 0.5111 - val_accuracy: 0.7759\n",
      "Epoch 23/110\n",
      "17/17 [==============================] - 0s 3ms/step - loss: 0.5065 - accuracy: 0.7703 - val_loss: 0.5103 - val_accuracy: 0.7759\n",
      "Epoch 24/110\n",
      "17/17 [==============================] - 0s 3ms/step - loss: 0.5049 - accuracy: 0.7703 - val_loss: 0.5093 - val_accuracy: 0.7759\n",
      "Epoch 25/110\n",
      "17/17 [==============================] - 0s 3ms/step - loss: 0.5030 - accuracy: 0.7722 - val_loss: 0.5085 - val_accuracy: 0.7931\n",
      "Epoch 26/110\n",
      "17/17 [==============================] - 0s 3ms/step - loss: 0.5012 - accuracy: 0.7664 - val_loss: 0.5081 - val_accuracy: 0.7759\n",
      "Epoch 27/110\n",
      "17/17 [==============================] - 0s 4ms/step - loss: 0.4995 - accuracy: 0.7703 - val_loss: 0.5078 - val_accuracy: 0.7759\n",
      "Epoch 28/110\n",
      "17/17 [==============================] - 0s 4ms/step - loss: 0.4983 - accuracy: 0.7683 - val_loss: 0.5073 - val_accuracy: 0.7759\n",
      "Epoch 29/110\n",
      "17/17 [==============================] - 0s 3ms/step - loss: 0.4971 - accuracy: 0.7664 - val_loss: 0.5069 - val_accuracy: 0.7759\n",
      "Epoch 30/110\n",
      "17/17 [==============================] - 0s 4ms/step - loss: 0.4960 - accuracy: 0.7722 - val_loss: 0.5068 - val_accuracy: 0.7759\n",
      "Epoch 31/110\n",
      "17/17 [==============================] - 0s 5ms/step - loss: 0.4950 - accuracy: 0.7722 - val_loss: 0.5067 - val_accuracy: 0.7931\n",
      "Epoch 32/110\n",
      "17/17 [==============================] - 0s 3ms/step - loss: 0.4941 - accuracy: 0.7703 - val_loss: 0.5067 - val_accuracy: 0.7931\n",
      "Epoch 33/110\n",
      "17/17 [==============================] - 0s 3ms/step - loss: 0.4935 - accuracy: 0.7703 - val_loss: 0.5068 - val_accuracy: 0.7931\n",
      "Epoch 34/110\n",
      "17/17 [==============================] - 0s 3ms/step - loss: 0.4921 - accuracy: 0.7683 - val_loss: 0.5067 - val_accuracy: 0.7931\n",
      "Epoch 35/110\n",
      "17/17 [==============================] - 0s 3ms/step - loss: 0.4911 - accuracy: 0.7683 - val_loss: 0.5071 - val_accuracy: 0.7759\n",
      "Epoch 36/110\n",
      "17/17 [==============================] - 0s 3ms/step - loss: 0.4906 - accuracy: 0.7703 - val_loss: 0.5065 - val_accuracy: 0.7759\n",
      "Epoch 37/110\n",
      "17/17 [==============================] - 0s 3ms/step - loss: 0.4891 - accuracy: 0.7683 - val_loss: 0.5061 - val_accuracy: 0.7759\n",
      "Epoch 38/110\n",
      "17/17 [==============================] - 0s 3ms/step - loss: 0.4884 - accuracy: 0.7664 - val_loss: 0.5062 - val_accuracy: 0.7759\n",
      "Epoch 39/110\n",
      "17/17 [==============================] - 0s 4ms/step - loss: 0.4878 - accuracy: 0.7664 - val_loss: 0.5064 - val_accuracy: 0.7759\n",
      "Epoch 40/110\n",
      "17/17 [==============================] - 0s 3ms/step - loss: 0.4871 - accuracy: 0.7664 - val_loss: 0.5063 - val_accuracy: 0.7759\n",
      "Epoch 41/110\n",
      "17/17 [==============================] - 0s 3ms/step - loss: 0.4865 - accuracy: 0.7703 - val_loss: 0.5065 - val_accuracy: 0.7759\n",
      "Epoch 42/110\n",
      "17/17 [==============================] - 0s 4ms/step - loss: 0.4857 - accuracy: 0.7683 - val_loss: 0.5055 - val_accuracy: 0.7759\n",
      "Epoch 43/110\n",
      "17/17 [==============================] - 0s 4ms/step - loss: 0.4848 - accuracy: 0.7683 - val_loss: 0.5047 - val_accuracy: 0.7586\n",
      "Epoch 44/110\n",
      "17/17 [==============================] - 0s 3ms/step - loss: 0.4843 - accuracy: 0.7683 - val_loss: 0.5046 - val_accuracy: 0.7586\n",
      "Epoch 45/110\n",
      "17/17 [==============================] - 0s 3ms/step - loss: 0.4834 - accuracy: 0.7703 - val_loss: 0.5050 - val_accuracy: 0.7586\n",
      "Epoch 46/110\n",
      "17/17 [==============================] - 0s 3ms/step - loss: 0.4832 - accuracy: 0.7703 - val_loss: 0.5046 - val_accuracy: 0.7586\n",
      "Epoch 47/110\n",
      "17/17 [==============================] - 0s 3ms/step - loss: 0.4823 - accuracy: 0.7703 - val_loss: 0.5043 - val_accuracy: 0.7586\n",
      "Epoch 48/110\n",
      "17/17 [==============================] - 0s 3ms/step - loss: 0.4816 - accuracy: 0.7722 - val_loss: 0.5039 - val_accuracy: 0.7586\n",
      "Epoch 49/110\n",
      "17/17 [==============================] - 0s 3ms/step - loss: 0.4811 - accuracy: 0.7741 - val_loss: 0.5035 - val_accuracy: 0.7586\n",
      "Epoch 50/110\n",
      "17/17 [==============================] - 0s 3ms/step - loss: 0.4803 - accuracy: 0.7741 - val_loss: 0.5032 - val_accuracy: 0.7586\n",
      "Epoch 51/110\n",
      "17/17 [==============================] - 0s 3ms/step - loss: 0.4798 - accuracy: 0.7722 - val_loss: 0.5029 - val_accuracy: 0.7759\n",
      "Epoch 52/110\n",
      "17/17 [==============================] - 0s 3ms/step - loss: 0.4791 - accuracy: 0.7741 - val_loss: 0.5020 - val_accuracy: 0.7586\n",
      "Epoch 53/110\n",
      "17/17 [==============================] - 0s 3ms/step - loss: 0.4788 - accuracy: 0.7741 - val_loss: 0.5014 - val_accuracy: 0.7586\n",
      "Epoch 54/110\n",
      "17/17 [==============================] - 0s 3ms/step - loss: 0.4784 - accuracy: 0.7741 - val_loss: 0.5020 - val_accuracy: 0.7759\n",
      "Epoch 55/110\n",
      "17/17 [==============================] - 0s 3ms/step - loss: 0.4774 - accuracy: 0.7722 - val_loss: 0.5019 - val_accuracy: 0.7759\n",
      "Epoch 56/110\n",
      "17/17 [==============================] - 0s 5ms/step - loss: 0.4767 - accuracy: 0.7780 - val_loss: 0.5018 - val_accuracy: 0.7586\n",
      "Epoch 57/110\n",
      "17/17 [==============================] - 0s 3ms/step - loss: 0.4764 - accuracy: 0.7780 - val_loss: 0.5017 - val_accuracy: 0.7586\n",
      "Epoch 58/110\n",
      "17/17 [==============================] - 0s 3ms/step - loss: 0.4759 - accuracy: 0.7819 - val_loss: 0.5012 - val_accuracy: 0.7586\n",
      "Epoch 59/110\n",
      "17/17 [==============================] - 0s 4ms/step - loss: 0.4754 - accuracy: 0.7780 - val_loss: 0.5013 - val_accuracy: 0.7586\n",
      "Epoch 60/110\n",
      "17/17 [==============================] - 0s 3ms/step - loss: 0.4748 - accuracy: 0.7780 - val_loss: 0.5005 - val_accuracy: 0.7586\n",
      "Epoch 61/110\n",
      "17/17 [==============================] - 0s 3ms/step - loss: 0.4745 - accuracy: 0.7780 - val_loss: 0.5003 - val_accuracy: 0.7586\n",
      "Epoch 62/110\n",
      "17/17 [==============================] - 0s 3ms/step - loss: 0.4737 - accuracy: 0.7819 - val_loss: 0.4996 - val_accuracy: 0.7586\n",
      "Epoch 63/110\n",
      "17/17 [==============================] - 0s 3ms/step - loss: 0.4733 - accuracy: 0.7838 - val_loss: 0.4994 - val_accuracy: 0.7586\n",
      "Epoch 64/110\n",
      "17/17 [==============================] - 0s 5ms/step - loss: 0.4727 - accuracy: 0.7780 - val_loss: 0.4993 - val_accuracy: 0.7586\n",
      "Epoch 65/110\n",
      "17/17 [==============================] - 0s 5ms/step - loss: 0.4722 - accuracy: 0.7819 - val_loss: 0.4995 - val_accuracy: 0.7586\n",
      "Epoch 66/110\n",
      "17/17 [==============================] - 0s 3ms/step - loss: 0.4718 - accuracy: 0.7799 - val_loss: 0.4999 - val_accuracy: 0.7586\n",
      "Epoch 67/110\n",
      "17/17 [==============================] - 0s 3ms/step - loss: 0.4714 - accuracy: 0.7799 - val_loss: 0.4999 - val_accuracy: 0.7586\n",
      "Epoch 68/110\n",
      "17/17 [==============================] - 0s 3ms/step - loss: 0.4709 - accuracy: 0.7780 - val_loss: 0.4998 - val_accuracy: 0.7586\n",
      "Epoch 69/110\n",
      "17/17 [==============================] - 0s 3ms/step - loss: 0.4701 - accuracy: 0.7780 - val_loss: 0.4994 - val_accuracy: 0.7586\n",
      "Epoch 70/110\n",
      "17/17 [==============================] - 0s 3ms/step - loss: 0.4700 - accuracy: 0.7761 - val_loss: 0.4993 - val_accuracy: 0.7586\n",
      "Epoch 71/110\n",
      "17/17 [==============================] - 0s 3ms/step - loss: 0.4696 - accuracy: 0.7761 - val_loss: 0.4995 - val_accuracy: 0.7586\n",
      "Epoch 72/110\n",
      "17/17 [==============================] - 0s 3ms/step - loss: 0.4688 - accuracy: 0.7780 - val_loss: 0.4992 - val_accuracy: 0.7586\n",
      "Epoch 73/110\n",
      "17/17 [==============================] - 0s 3ms/step - loss: 0.4682 - accuracy: 0.7819 - val_loss: 0.4989 - val_accuracy: 0.7586\n",
      "Epoch 74/110\n",
      "17/17 [==============================] - 0s 3ms/step - loss: 0.4683 - accuracy: 0.7857 - val_loss: 0.4987 - val_accuracy: 0.7586\n",
      "Epoch 75/110\n",
      "17/17 [==============================] - 0s 3ms/step - loss: 0.4690 - accuracy: 0.7838 - val_loss: 0.4978 - val_accuracy: 0.7586\n",
      "Epoch 76/110\n",
      "17/17 [==============================] - 0s 3ms/step - loss: 0.4672 - accuracy: 0.7876 - val_loss: 0.4978 - val_accuracy: 0.7586\n",
      "Epoch 77/110\n",
      "17/17 [==============================] - 0s 3ms/step - loss: 0.4666 - accuracy: 0.7838 - val_loss: 0.4980 - val_accuracy: 0.7414\n",
      "Epoch 78/110\n",
      "17/17 [==============================] - 0s 3ms/step - loss: 0.4660 - accuracy: 0.7838 - val_loss: 0.4980 - val_accuracy: 0.7414\n",
      "Epoch 79/110\n",
      "17/17 [==============================] - 0s 3ms/step - loss: 0.4654 - accuracy: 0.7857 - val_loss: 0.4982 - val_accuracy: 0.7586\n",
      "Epoch 80/110\n",
      "17/17 [==============================] - 0s 3ms/step - loss: 0.4649 - accuracy: 0.7876 - val_loss: 0.4986 - val_accuracy: 0.7414\n",
      "Epoch 81/110\n",
      "17/17 [==============================] - 0s 3ms/step - loss: 0.4645 - accuracy: 0.7838 - val_loss: 0.4994 - val_accuracy: 0.7414\n",
      "Epoch 82/110\n",
      "17/17 [==============================] - 0s 6ms/step - loss: 0.4639 - accuracy: 0.7838 - val_loss: 0.4987 - val_accuracy: 0.7414\n",
      "Epoch 83/110\n",
      "17/17 [==============================] - 0s 3ms/step - loss: 0.4638 - accuracy: 0.7857 - val_loss: 0.4991 - val_accuracy: 0.7414\n",
      "Epoch 84/110\n",
      "17/17 [==============================] - 0s 3ms/step - loss: 0.4631 - accuracy: 0.7896 - val_loss: 0.4986 - val_accuracy: 0.7414\n",
      "Epoch 85/110\n",
      "17/17 [==============================] - 0s 3ms/step - loss: 0.4628 - accuracy: 0.7876 - val_loss: 0.4983 - val_accuracy: 0.7414\n",
      "Epoch 86/110\n",
      "17/17 [==============================] - 0s 3ms/step - loss: 0.4621 - accuracy: 0.7876 - val_loss: 0.4989 - val_accuracy: 0.7414\n",
      "Epoch 87/110\n",
      "17/17 [==============================] - 0s 3ms/step - loss: 0.4620 - accuracy: 0.7876 - val_loss: 0.4987 - val_accuracy: 0.7414\n",
      "Epoch 88/110\n",
      "17/17 [==============================] - 0s 3ms/step - loss: 0.4615 - accuracy: 0.7915 - val_loss: 0.4977 - val_accuracy: 0.7414\n",
      "Epoch 89/110\n",
      "17/17 [==============================] - 0s 3ms/step - loss: 0.4608 - accuracy: 0.7896 - val_loss: 0.4975 - val_accuracy: 0.7414\n",
      "Epoch 90/110\n",
      "17/17 [==============================] - 0s 3ms/step - loss: 0.4604 - accuracy: 0.7915 - val_loss: 0.4974 - val_accuracy: 0.7414\n",
      "Epoch 91/110\n",
      "17/17 [==============================] - 0s 3ms/step - loss: 0.4602 - accuracy: 0.7896 - val_loss: 0.4982 - val_accuracy: 0.7414\n",
      "Epoch 92/110\n",
      "17/17 [==============================] - 0s 3ms/step - loss: 0.4598 - accuracy: 0.7876 - val_loss: 0.4984 - val_accuracy: 0.7414\n",
      "Epoch 93/110\n",
      "17/17 [==============================] - 0s 3ms/step - loss: 0.4598 - accuracy: 0.7896 - val_loss: 0.4979 - val_accuracy: 0.7414\n",
      "Epoch 94/110\n",
      "17/17 [==============================] - 0s 3ms/step - loss: 0.4586 - accuracy: 0.7876 - val_loss: 0.4983 - val_accuracy: 0.7414\n",
      "Epoch 95/110\n",
      "17/17 [==============================] - 0s 3ms/step - loss: 0.4582 - accuracy: 0.7876 - val_loss: 0.4976 - val_accuracy: 0.7414\n",
      "Epoch 96/110\n",
      "17/17 [==============================] - 0s 3ms/step - loss: 0.4576 - accuracy: 0.7876 - val_loss: 0.4976 - val_accuracy: 0.7414\n",
      "Epoch 97/110\n",
      "17/17 [==============================] - 0s 3ms/step - loss: 0.4573 - accuracy: 0.7896 - val_loss: 0.4979 - val_accuracy: 0.7414\n",
      "Epoch 98/110\n",
      "17/17 [==============================] - 0s 3ms/step - loss: 0.4573 - accuracy: 0.7896 - val_loss: 0.4985 - val_accuracy: 0.7414\n",
      "Epoch 99/110\n",
      "17/17 [==============================] - 0s 3ms/step - loss: 0.4567 - accuracy: 0.7896 - val_loss: 0.4984 - val_accuracy: 0.7414\n",
      "Epoch 100/110\n",
      "17/17 [==============================] - 0s 3ms/step - loss: 0.4561 - accuracy: 0.7896 - val_loss: 0.4989 - val_accuracy: 0.7414\n",
      "Epoch 101/110\n",
      "17/17 [==============================] - 0s 3ms/step - loss: 0.4563 - accuracy: 0.7896 - val_loss: 0.4986 - val_accuracy: 0.7414\n",
      "Epoch 102/110\n",
      "17/17 [==============================] - 0s 3ms/step - loss: 0.4557 - accuracy: 0.7915 - val_loss: 0.4986 - val_accuracy: 0.7414\n",
      "Epoch 103/110\n",
      "17/17 [==============================] - 0s 4ms/step - loss: 0.4552 - accuracy: 0.7934 - val_loss: 0.4987 - val_accuracy: 0.7414\n",
      "Epoch 104/110\n",
      "17/17 [==============================] - 0s 4ms/step - loss: 0.4547 - accuracy: 0.7934 - val_loss: 0.4988 - val_accuracy: 0.7414\n",
      "Epoch 105/110\n",
      "17/17 [==============================] - 0s 6ms/step - loss: 0.4544 - accuracy: 0.7915 - val_loss: 0.4985 - val_accuracy: 0.7414\n",
      "Epoch 106/110\n",
      "17/17 [==============================] - 0s 3ms/step - loss: 0.4545 - accuracy: 0.7934 - val_loss: 0.4985 - val_accuracy: 0.7414\n",
      "Epoch 107/110\n",
      "17/17 [==============================] - 0s 3ms/step - loss: 0.4539 - accuracy: 0.7934 - val_loss: 0.4987 - val_accuracy: 0.7414\n",
      "Epoch 108/110\n",
      "17/17 [==============================] - 0s 3ms/step - loss: 0.4533 - accuracy: 0.7934 - val_loss: 0.4985 - val_accuracy: 0.7414\n",
      "Epoch 109/110\n",
      "17/17 [==============================] - 0s 3ms/step - loss: 0.4530 - accuracy: 0.7896 - val_loss: 0.4981 - val_accuracy: 0.7414\n",
      "Epoch 110/110\n",
      "17/17 [==============================] - 0s 3ms/step - loss: 0.4530 - accuracy: 0.7896 - val_loss: 0.4976 - val_accuracy: 0.7414\n"
     ]
    },
    {
     "data": {
      "text/plain": [
       "<keras.callbacks.History at 0x1eb8449e5b0>"
      ]
     },
     "execution_count": 93,
     "metadata": {},
     "output_type": "execute_result"
    }
   ],
   "source": [
    "model.fit(x_train_scaled, y_train, epochs=110, batch_size=32, validation_split=0.1)"
   ]
  },
  {
   "cell_type": "code",
   "execution_count": 94,
   "metadata": {},
   "outputs": [
    {
     "name": "stdout",
     "output_type": "stream",
     "text": [
      "6/6 [==============================] - 0s 2ms/step\n"
     ]
    }
   ],
   "source": [
    "y_log = model.predict(x_test_scaled)"
   ]
  },
  {
   "cell_type": "code",
   "execution_count": 95,
   "metadata": {},
   "outputs": [
    {
     "data": {
      "text/plain": [
       "array([[0],\n",
       "       [0],\n",
       "       [1],\n",
       "       [1],\n",
       "       [1],\n",
       "       [0],\n",
       "       [1],\n",
       "       [1],\n",
       "       [1],\n",
       "       [0],\n",
       "       [0],\n",
       "       [0],\n",
       "       [0],\n",
       "       [1],\n",
       "       [0],\n",
       "       [1],\n",
       "       [0],\n",
       "       [0],\n",
       "       [0],\n",
       "       [1],\n",
       "       [1],\n",
       "       [0],\n",
       "       [0],\n",
       "       [0],\n",
       "       [1],\n",
       "       [0],\n",
       "       [1],\n",
       "       [1],\n",
       "       [0],\n",
       "       [1],\n",
       "       [0],\n",
       "       [0],\n",
       "       [1],\n",
       "       [0],\n",
       "       [0],\n",
       "       [0],\n",
       "       [0],\n",
       "       [0],\n",
       "       [1],\n",
       "       [1],\n",
       "       [0],\n",
       "       [0],\n",
       "       [1],\n",
       "       [1],\n",
       "       [0],\n",
       "       [0],\n",
       "       [0],\n",
       "       [1],\n",
       "       [0],\n",
       "       [0],\n",
       "       [1],\n",
       "       [1],\n",
       "       [0],\n",
       "       [1],\n",
       "       [1],\n",
       "       [1],\n",
       "       [0],\n",
       "       [0],\n",
       "       [0],\n",
       "       [0],\n",
       "       [0],\n",
       "       [0],\n",
       "       [1],\n",
       "       [0],\n",
       "       [1],\n",
       "       [1],\n",
       "       [1],\n",
       "       [0],\n",
       "       [0],\n",
       "       [1],\n",
       "       [1],\n",
       "       [1],\n",
       "       [0],\n",
       "       [0],\n",
       "       [0],\n",
       "       [0],\n",
       "       [0],\n",
       "       [0],\n",
       "       [0],\n",
       "       [0],\n",
       "       [1],\n",
       "       [0],\n",
       "       [0],\n",
       "       [1],\n",
       "       [1],\n",
       "       [0],\n",
       "       [0],\n",
       "       [1],\n",
       "       [0],\n",
       "       [1],\n",
       "       [0],\n",
       "       [0],\n",
       "       [0],\n",
       "       [1],\n",
       "       [0],\n",
       "       [0],\n",
       "       [0],\n",
       "       [0],\n",
       "       [1],\n",
       "       [0],\n",
       "       [0],\n",
       "       [0],\n",
       "       [0],\n",
       "       [1],\n",
       "       [1],\n",
       "       [0],\n",
       "       [0],\n",
       "       [0],\n",
       "       [0],\n",
       "       [0],\n",
       "       [0],\n",
       "       [0],\n",
       "       [0],\n",
       "       [1],\n",
       "       [0],\n",
       "       [1],\n",
       "       [0],\n",
       "       [0],\n",
       "       [0],\n",
       "       [0],\n",
       "       [1],\n",
       "       [0],\n",
       "       [0],\n",
       "       [0],\n",
       "       [0],\n",
       "       [1],\n",
       "       [1],\n",
       "       [1],\n",
       "       [1],\n",
       "       [0],\n",
       "       [1],\n",
       "       [0],\n",
       "       [0],\n",
       "       [0],\n",
       "       [0],\n",
       "       [0],\n",
       "       [0],\n",
       "       [0],\n",
       "       [0],\n",
       "       [0],\n",
       "       [1],\n",
       "       [0],\n",
       "       [0],\n",
       "       [1],\n",
       "       [1],\n",
       "       [0],\n",
       "       [0],\n",
       "       [1],\n",
       "       [0],\n",
       "       [1],\n",
       "       [0],\n",
       "       [0],\n",
       "       [0],\n",
       "       [1],\n",
       "       [0],\n",
       "       [0],\n",
       "       [0],\n",
       "       [1],\n",
       "       [0],\n",
       "       [1],\n",
       "       [0],\n",
       "       [1],\n",
       "       [0],\n",
       "       [0],\n",
       "       [0],\n",
       "       [0],\n",
       "       [0],\n",
       "       [1],\n",
       "       [0],\n",
       "       [0],\n",
       "       [0],\n",
       "       [0],\n",
       "       [0],\n",
       "       [1],\n",
       "       [0],\n",
       "       [0],\n",
       "       [0],\n",
       "       [0],\n",
       "       [1],\n",
       "       [0],\n",
       "       [0],\n",
       "       [1],\n",
       "       [0],\n",
       "       [1],\n",
       "       [1],\n",
       "       [1],\n",
       "       [0],\n",
       "       [0],\n",
       "       [1],\n",
       "       [0],\n",
       "       [0],\n",
       "       [0]])"
      ]
     },
     "execution_count": 95,
     "metadata": {},
     "output_type": "execute_result"
    }
   ],
   "source": [
    "import numpy as np\n",
    "y_pred = np.where(y_log>0.5,1,0)\n",
    "y_pred"
   ]
  },
  {
   "cell_type": "code",
   "execution_count": 96,
   "metadata": {},
   "outputs": [],
   "source": [
    "#Evaluation"
   ]
  },
  {
   "cell_type": "code",
   "execution_count": 97,
   "metadata": {},
   "outputs": [
    {
     "name": "stdout",
     "output_type": "stream",
     "text": [
      "              precision    recall  f1-score   support\n",
      "\n",
      "           0       0.85      0.86      0.85       125\n",
      "           1       0.73      0.72      0.72        67\n",
      "\n",
      "    accuracy                           0.81       192\n",
      "   macro avg       0.79      0.79      0.79       192\n",
      "weighted avg       0.81      0.81      0.81       192\n",
      "\n"
     ]
    }
   ],
   "source": [
    "from sklearn.metrics import classification_report, confusion_matrix\n",
    "report = classification_report(y_test, y_pred)\n",
    "print(report)"
   ]
  },
  {
   "cell_type": "code",
   "execution_count": 98,
   "metadata": {},
   "outputs": [
    {
     "name": "stdout",
     "output_type": "stream",
     "text": [
      "[[107  18]\n",
      " [ 19  48]]\n"
     ]
    }
   ],
   "source": [
    "matrix = confusion_matrix(y_test, y_pred)\n",
    "print(matrix)"
   ]
  },
  {
   "cell_type": "code",
   "execution_count": 100,
   "metadata": {},
   "outputs": [
    {
     "name": "stdout",
     "output_type": "stream",
     "text": [
      "6/6 [==============================] - 0s 2ms/step - loss: 0.4769 - accuracy: 0.8073\n",
      "Test Loss: 0.47687801718711853\n",
      "Test Accuracy: 0.8072916865348816\n"
     ]
    }
   ],
   "source": [
    "loss, accuracy = model.evaluate(x_test_scaled, y_test)\n",
    "print(\"Test Loss:\", loss)\n",
    "print(\"Test Accuracy:\", accuracy)\n"
   ]
  },
  {
   "cell_type": "code",
   "execution_count": 101,
   "metadata": {},
   "outputs": [],
   "source": [
    "# Save the model\n",
    "model.save('my_model.h5')"
   ]
  }
 ],
 "metadata": {
  "kernelspec": {
   "display_name": "base",
   "language": "python",
   "name": "python3"
  },
  "language_info": {
   "codemirror_mode": {
    "name": "ipython",
    "version": 3
   },
   "file_extension": ".py",
   "mimetype": "text/x-python",
   "name": "python",
   "nbconvert_exporter": "python",
   "pygments_lexer": "ipython3",
   "version": "3.9.13"
  },
  "orig_nbformat": 4
 },
 "nbformat": 4,
 "nbformat_minor": 2
}
